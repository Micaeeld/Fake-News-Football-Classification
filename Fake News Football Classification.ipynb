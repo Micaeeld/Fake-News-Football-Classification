{
 "cells": [
  {
   "cell_type": "markdown",
   "id": "90e2b25a",
   "metadata": {},
   "source": [
    "# 📚 Imports\n",
    "---"
   ]
  },
  {
   "cell_type": "code",
   "execution_count": 190,
   "id": "979f9a84",
   "metadata": {},
   "outputs": [],
   "source": [
    "import pandas as pd\n",
    "import numpy as np\n",
    "import re\n",
    "from unidecode import unidecode\n",
    "\n",
    "import collections\n",
    "import matplotlib.pyplot as plt\n",
    "\n",
    "import nltk\n",
    "from nltk.corpus import stopwords\n",
    "from nltk.tokenize import word_tokenize\n",
    "from nltk.stem import SnowballStemmer\n",
    "\n",
    "from sklearn.model_selection import train_test_split\n",
    "from sklearn.feature_extraction.text import CountVectorizer\n",
    "from sklearn.naive_bayes import MultinomialNB, BernoulliNB\n",
    "from sklearn.metrics import accuracy_score\n",
    "from sklearn.metrics import classification_report"
   ]
  },
  {
   "cell_type": "markdown",
   "id": "acd6ecd6",
   "metadata": {},
   "source": [
    "# 📖 Data\n",
    "---"
   ]
  },
  {
   "cell_type": "code",
   "execution_count": 191,
   "id": "a251a8f7",
   "metadata": {},
   "outputs": [],
   "source": [
    "real = pd.read_csv('data/real.csv')\n",
    "fake = pd.read_csv('data/fake.csv')"
   ]
  },
  {
   "cell_type": "code",
   "execution_count": 192,
   "id": "23bf069d",
   "metadata": {},
   "outputs": [
    {
     "data": {
      "text/html": [
       "<div>\n",
       "<style scoped>\n",
       "    .dataframe tbody tr th:only-of-type {\n",
       "        vertical-align: middle;\n",
       "    }\n",
       "\n",
       "    .dataframe tbody tr th {\n",
       "        vertical-align: top;\n",
       "    }\n",
       "\n",
       "    .dataframe thead th {\n",
       "        text-align: right;\n",
       "    }\n",
       "</style>\n",
       "<table border=\"1\" class=\"dataframe\">\n",
       "  <thead>\n",
       "    <tr style=\"text-align: right;\">\n",
       "      <th></th>\n",
       "      <th>tweet</th>\n",
       "    </tr>\n",
       "  </thead>\n",
       "  <tbody>\n",
       "    <tr>\n",
       "      <th>0</th>\n",
       "      <td>sun downs technical director: al-ahly respecte...</td>\n",
       "    </tr>\n",
       "    <tr>\n",
       "      <th>1</th>\n",
       "      <td>shawky gharib after the tie with enppi: our go...</td>\n",
       "    </tr>\n",
       "    <tr>\n",
       "      <th>2</th>\n",
       "      <td>egyptian sports news today, wednesday 1/25/202...</td>\n",
       "    </tr>\n",
       "    <tr>\n",
       "      <th>3</th>\n",
       "      <td>the main referees committee of the egyptian fo...</td>\n",
       "    </tr>\n",
       "    <tr>\n",
       "      <th>4</th>\n",
       "      <td>haji bari, the striker of the future team, is ...</td>\n",
       "    </tr>\n",
       "  </tbody>\n",
       "</table>\n",
       "</div>"
      ],
      "text/plain": [
       "                                               tweet\n",
       "0  sun downs technical director: al-ahly respecte...\n",
       "1  shawky gharib after the tie with enppi: our go...\n",
       "2  egyptian sports news today, wednesday 1/25/202...\n",
       "3  the main referees committee of the egyptian fo...\n",
       "4  haji bari, the striker of the future team, is ..."
      ]
     },
     "execution_count": 192,
     "metadata": {},
     "output_type": "execute_result"
    }
   ],
   "source": [
    "real.head()"
   ]
  },
  {
   "cell_type": "code",
   "execution_count": 193,
   "id": "26d55c4d",
   "metadata": {},
   "outputs": [
    {
     "data": {
      "text/html": [
       "<div>\n",
       "<style scoped>\n",
       "    .dataframe tbody tr th:only-of-type {\n",
       "        vertical-align: middle;\n",
       "    }\n",
       "\n",
       "    .dataframe tbody tr th {\n",
       "        vertical-align: top;\n",
       "    }\n",
       "\n",
       "    .dataframe thead th {\n",
       "        text-align: right;\n",
       "    }\n",
       "</style>\n",
       "<table border=\"1\" class=\"dataframe\">\n",
       "  <thead>\n",
       "    <tr style=\"text-align: right;\">\n",
       "      <th></th>\n",
       "      <th>tweet</th>\n",
       "    </tr>\n",
       "  </thead>\n",
       "  <tbody>\n",
       "    <tr>\n",
       "      <th>19994</th>\n",
       "      <td>by hitting the referee</td>\n",
       "    </tr>\n",
       "    <tr>\n",
       "      <th>19995</th>\n",
       "      <td>and instead of assassinating him.. they assass...</td>\n",
       "    </tr>\n",
       "    <tr>\n",
       "      <th>19996</th>\n",
       "      <td>honestly, the goalkeeper deal is not the best\\...</td>\n",
       "    </tr>\n",
       "    <tr>\n",
       "      <th>19997</th>\n",
       "      <td>haha goal and no bangura (:</td>\n",
       "    </tr>\n",
       "    <tr>\n",
       "      <th>19998</th>\n",
       "      <td>i swear by god almighty\\nmessi will not come t...</td>\n",
       "    </tr>\n",
       "  </tbody>\n",
       "</table>\n",
       "</div>"
      ],
      "text/plain": [
       "                                                   tweet\n",
       "19994                             by hitting the referee\n",
       "19995  and instead of assassinating him.. they assass...\n",
       "19996  honestly, the goalkeeper deal is not the best\\...\n",
       "19997                        haha goal and no bangura (:\n",
       "19998  i swear by god almighty\\nmessi will not come t..."
      ]
     },
     "execution_count": 193,
     "metadata": {},
     "output_type": "execute_result"
    }
   ],
   "source": [
    "fake.tail()"
   ]
  },
  {
   "cell_type": "code",
   "execution_count": 194,
   "id": "26d0b2a8",
   "metadata": {},
   "outputs": [
    {
     "name": "stdout",
     "output_type": "stream",
     "text": [
      "(21869, 1)\n",
      "(19999, 1)\n"
     ]
    }
   ],
   "source": [
    "print(real.shape)\n",
    "print(fake.shape)"
   ]
  },
  {
   "cell_type": "code",
   "execution_count": 195,
   "id": "58447120",
   "metadata": {},
   "outputs": [
    {
     "name": "stdout",
     "output_type": "stream",
     "text": [
      "tweet    11\n",
      "dtype: int64\n",
      "tweet    6\n",
      "dtype: int64\n"
     ]
    }
   ],
   "source": [
    "print(fake.isna().sum())\n",
    "print(real.isna().sum())"
   ]
  },
  {
   "cell_type": "markdown",
   "id": "0ba8f689",
   "metadata": {},
   "source": [
    "# ♻️ Data Cleaning\n",
    "---"
   ]
  },
  {
   "cell_type": "markdown",
   "id": "95fd5722",
   "metadata": {},
   "source": [
    "### Drop null values"
   ]
  },
  {
   "cell_type": "code",
   "execution_count": 196,
   "id": "0e732741",
   "metadata": {},
   "outputs": [],
   "source": [
    "fake.dropna(inplace = True)\n",
    "real.dropna(inplace = True)"
   ]
  },
  {
   "cell_type": "markdown",
   "id": "90e3bac4",
   "metadata": {},
   "source": [
    "### Assign a number to real (0) or false (1)"
   ]
  },
  {
   "cell_type": "code",
   "execution_count": 197,
   "id": "9ddaccc4",
   "metadata": {},
   "outputs": [],
   "source": [
    "fake['fake'] = 1\n",
    "real['fake'] = 0"
   ]
  },
  {
   "cell_type": "markdown",
   "id": "f50a8802",
   "metadata": {},
   "source": [
    "### Concatenating the datasets"
   ]
  },
  {
   "cell_type": "code",
   "execution_count": 198,
   "id": "856f3975",
   "metadata": {},
   "outputs": [
    {
     "data": {
      "text/html": [
       "<div>\n",
       "<style scoped>\n",
       "    .dataframe tbody tr th:only-of-type {\n",
       "        vertical-align: middle;\n",
       "    }\n",
       "\n",
       "    .dataframe tbody tr th {\n",
       "        vertical-align: top;\n",
       "    }\n",
       "\n",
       "    .dataframe thead th {\n",
       "        text-align: right;\n",
       "    }\n",
       "</style>\n",
       "<table border=\"1\" class=\"dataframe\">\n",
       "  <thead>\n",
       "    <tr style=\"text-align: right;\">\n",
       "      <th></th>\n",
       "      <th>tweet</th>\n",
       "      <th>fake</th>\n",
       "    </tr>\n",
       "  </thead>\n",
       "  <tbody>\n",
       "    <tr>\n",
       "      <th>0</th>\n",
       "      <td>sun downs technical director: al-ahly respecte...</td>\n",
       "      <td>0</td>\n",
       "    </tr>\n",
       "    <tr>\n",
       "      <th>1</th>\n",
       "      <td>shawky gharib after the tie with enppi: our go...</td>\n",
       "      <td>0</td>\n",
       "    </tr>\n",
       "    <tr>\n",
       "      <th>2</th>\n",
       "      <td>egyptian sports news today, wednesday 1/25/202...</td>\n",
       "      <td>0</td>\n",
       "    </tr>\n",
       "    <tr>\n",
       "      <th>3</th>\n",
       "      <td>the main referees committee of the egyptian fo...</td>\n",
       "      <td>0</td>\n",
       "    </tr>\n",
       "    <tr>\n",
       "      <th>4</th>\n",
       "      <td>haji bari, the striker of the future team, is ...</td>\n",
       "      <td>0</td>\n",
       "    </tr>\n",
       "  </tbody>\n",
       "</table>\n",
       "</div>"
      ],
      "text/plain": [
       "                                               tweet  fake\n",
       "0  sun downs technical director: al-ahly respecte...     0\n",
       "1  shawky gharib after the tie with enppi: our go...     0\n",
       "2  egyptian sports news today, wednesday 1/25/202...     0\n",
       "3  the main referees committee of the egyptian fo...     0\n",
       "4  haji bari, the striker of the future team, is ...     0"
      ]
     },
     "execution_count": 198,
     "metadata": {},
     "output_type": "execute_result"
    }
   ],
   "source": [
    "df = pd.concat([real, fake], ignore_index = True)\n",
    "df.head()"
   ]
  },
  {
   "cell_type": "markdown",
   "id": "02d900df",
   "metadata": {},
   "source": [
    "### Text cleaning"
   ]
  },
  {
   "cell_type": "code",
   "execution_count": 200,
   "id": "0c2814dc",
   "metadata": {},
   "outputs": [],
   "source": [
    "# Variable to replace all characters that are not letters or whitespace\n",
    "regex = re.compile('[^a-z\\s]')\n",
    "# Convert text to lower case\n",
    "df['text'] = df['tweet'].str.lower()\n",
    "# Removes all characters that are not letters or spaces\n",
    "df['text'] = df['text'].apply(lambda x: regex.sub('', x))\n",
    "# Removes all characters between square brackets\n",
    "df['text'] = df['text'].str.replace('[%s]', '', regex = True)\n",
    "# Remove the accents\n",
    "df['text'] = df['text'].apply(lambda x: regex.sub('', unidecode(x)))\n",
    "# Remove http\n",
    "df['text'] = df['text'].str.replace('http', '', regex = True)\n",
    "# Remove words with less than 3 characters\n",
    "df['text'] = df['text'].apply(lambda x: ' '.join([w for w in x.split() if len(w) > 2]))"
   ]
  },
  {
   "cell_type": "markdown",
   "id": "84fb47d2",
   "metadata": {},
   "source": [
    "### Removing stopwords"
   ]
  },
  {
   "cell_type": "code",
   "execution_count": 201,
   "id": "c9422f01",
   "metadata": {},
   "outputs": [],
   "source": [
    "# Tokenization\n",
    "df['text'] = df['text'].apply(word_tokenize)\n",
    "\n",
    "# Removing stopwords\n",
    "stop_words = set(stopwords.words('english'))\n",
    "df['text'] = df['text'].apply(lambda x: [word for word in x if word not in stop_words])"
   ]
  },
  {
   "cell_type": "markdown",
   "id": "fe1672ad",
   "metadata": {},
   "source": [
    "### Word normalization"
   ]
  },
  {
   "cell_type": "code",
   "execution_count": 202,
   "id": "de685018",
   "metadata": {},
   "outputs": [],
   "source": [
    "# Word normalization\n",
    "stemmer = SnowballStemmer('english')\n",
    "df['text'] = df['text'].apply(lambda x: [stemmer.stem(word) for word in x])\n",
    "\n",
    "# Joining the words back into a single text\n",
    "df['text'] = df['text'].apply(lambda x: ' '.join(x))"
   ]
  },
  {
   "cell_type": "markdown",
   "id": "e07b40b8",
   "metadata": {},
   "source": [
    "# 📊 Top 10 most used words\n",
    "---"
   ]
  },
  {
   "cell_type": "code",
   "execution_count": 203,
   "id": "af937d02",
   "metadata": {},
   "outputs": [
    {
     "data": {
      "image/png": "[encoded data removed]",
      "text/plain": [
       "<Figure size 1000x600 with 1 Axes>"
      ]
     },
     "metadata": {},
     "output_type": "display_data"
    }
   ],
   "source": [
    "words = []\n",
    "for text in df['text']:\n",
    "    words.extend(text.split())\n",
    "word_count = collections.Counter(words)\n",
    "top_words = dict(word_count.most_common(10))\n",
    "\n",
    "# Figure Size\n",
    "plt.figure(figsize = (10, 6))\n",
    "# Dark Background\n",
    "plt.style.use('dark_background')\n",
    "\n",
    "# Create the Barplot\n",
    "plt.bar(range(len(top_words)), list(top_words.values()), align = 'center')\n",
    "\n",
    "# Creating a y axis with words\n",
    "plt.xticks(range(len(top_words)), list(top_words.keys()))\n",
    "# Grid Opacity\n",
    "plt.grid(alpha = 0.5)\n",
    "# Title\n",
    "plt.title('Top 10 most used words', fontsize = 18)\n",
    "# Labels\n",
    "plt.xlabel('Words')\n",
    "plt.ylabel('Frequency')\n",
    "# Show\n",
    "plt.show()"
   ]
  },
  {
   "cell_type": "markdown",
   "id": "bdc69a49",
   "metadata": {},
   "source": [
    "# 🏋️  Training\n",
    "---"
   ]
  },
  {
   "cell_type": "markdown",
   "id": "167402fa",
   "metadata": {},
   "source": [
    "### Separating Data for Sorting with CountVectorizer"
   ]
  },
  {
   "cell_type": "code",
   "execution_count": 303,
   "id": "68f2d5bc",
   "metadata": {},
   "outputs": [],
   "source": [
    "# Split X and Y\n",
    "x = np.array(df['text'])\n",
    "y = np.array(df['fake'])\n",
    "\n",
    "# Convert text to numerical\n",
    "cv = CountVectorizer()\n",
    "X = cv.fit_transform(x)\n",
    "\n",
    "# Split Train and Test\n",
    "xtrain, xtest, ytrain, ytest = train_test_split(X, y, test_size = 0.15, random_state = 7)"
   ]
  },
  {
   "cell_type": "markdown",
   "id": "f43c5e84",
   "metadata": {},
   "source": [
    "### Training"
   ]
  },
  {
   "cell_type": "code",
   "execution_count": 304,
   "id": "272f3878",
   "metadata": {},
   "outputs": [
    {
     "data": {
      "text/plain": [
       "BernoulliNB()"
      ]
     },
     "execution_count": 304,
     "metadata": {},
     "output_type": "execute_result"
    }
   ],
   "source": [
    "# Models\n",
    "mnb = MultinomialNB()\n",
    "bnb = BernoulliNB()\n",
    "\n",
    "mnb.fit(xtrain, ytrain)\n",
    "bnb.fit(xtrain, ytrain)"
   ]
  },
  {
   "cell_type": "markdown",
   "id": "35432d74",
   "metadata": {},
   "source": [
    "### Prediction"
   ]
  },
  {
   "cell_type": "code",
   "execution_count": 305,
   "id": "367e9666",
   "metadata": {},
   "outputs": [],
   "source": [
    "# Predictions\n",
    "pred_mnb = mnb.predict(xtest)\n",
    "pred_bnb = bnb.predict(xtest)"
   ]
  },
  {
   "cell_type": "markdown",
   "id": "d22a1efd",
   "metadata": {},
   "source": [
    "# 📋 Results\n",
    "---"
   ]
  },
  {
   "cell_type": "markdown",
   "id": "63c43684",
   "metadata": {},
   "source": [
    "### MultinomialNB"
   ]
  },
  {
   "cell_type": "code",
   "execution_count": 306,
   "id": "e9a7d05d",
   "metadata": {},
   "outputs": [
    {
     "name": "stdout",
     "output_type": "stream",
     "text": [
      "Multinomia Accuracy: 0.941382605925454\n",
      "-------------------------------------------------------\n",
      "              precision    recall  f1-score   support\n",
      "\n",
      "           0       0.96      0.93      0.94      3259\n",
      "           1       0.93      0.95      0.94      3019\n",
      "\n",
      "    accuracy                           0.94      6278\n",
      "   macro avg       0.94      0.94      0.94      6278\n",
      "weighted avg       0.94      0.94      0.94      6278\n",
      "\n"
     ]
    }
   ],
   "source": [
    "print(f'Multinomia Accuracy: {accuracy_score(ytest, pred_mnb)}')\n",
    "print('-' * 55)\n",
    "print(classification_report(ytest, pred_mnb))"
   ]
  },
  {
   "cell_type": "markdown",
   "id": "1f31bf75",
   "metadata": {},
   "source": [
    "### BernoulliNB"
   ]
  },
  {
   "cell_type": "code",
   "execution_count": 307,
   "id": "a4958d0b",
   "metadata": {},
   "outputs": [
    {
     "name": "stdout",
     "output_type": "stream",
     "text": [
      "Bernoulli Accuracy: 0.9399490283529787\n",
      "-------------------------------------------------------\n",
      "              precision    recall  f1-score   support\n",
      "\n",
      "           0       0.97      0.91      0.94      3259\n",
      "           1       0.91      0.97      0.94      3019\n",
      "\n",
      "    accuracy                           0.94      6278\n",
      "   macro avg       0.94      0.94      0.94      6278\n",
      "weighted avg       0.94      0.94      0.94      6278\n",
      "\n"
     ]
    }
   ],
   "source": [
    "print(f'Bernoulli Accuracy: {accuracy_score(ytest, pred_bnb)}')\n",
    "print('-' * 55)\n",
    "print(classification_report(ytest, pred_bnb))"
   ]
  },
  {
   "cell_type": "markdown",
   "id": "02e4a0b0",
   "metadata": {},
   "source": [
    "# 🏁 Thank you! Feel free to criticize! 🏁"
   ]
  }
 ],
 "metadata": {
  "kernelspec": {
   "display_name": "Python 3 (ipykernel)",
   "language": "python",
   "name": "python3"
  },
  "language_info": {
   "codemirror_mode": {
    "name": "ipython",
    "version": 3
   },
   "file_extension": ".py",
   "mimetype": "text/x-python",
   "name": "python",
   "nbconvert_exporter": "python",
   "pygments_lexer": "ipython3",
   "version": "3.9.13"
  }
 },
 "nbformat": 4,
 "nbformat_minor": 5
}
